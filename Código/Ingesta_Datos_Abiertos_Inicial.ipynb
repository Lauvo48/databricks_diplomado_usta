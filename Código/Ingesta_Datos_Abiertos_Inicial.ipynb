{
 "cells": [
  {
   "cell_type": "markdown",
   "metadata": {
    "application/vnd.databricks.v1+cell": {
     "cellMetadata": {
      "byteLimit": 2048000,
      "rowLimit": 10000
     },
     "inputWidgets": {},
     "nuid": "1585077d-1079-4b46-aa30-a32727e77e34",
     "showTitle": false,
     "tableResultSettingsMap": {},
     "title": ""
    }
   },
   "source": [
    "# Cuaderno de Ingesta de Datos\n",
    "\n",
    "En este bloque traeremos la información de datos abiertos. "
   ]
  },
  {
   "cell_type": "code",
   "execution_count": 0,
   "metadata": {
    "application/vnd.databricks.v1+cell": {
     "cellMetadata": {
      "byteLimit": 2048000,
      "rowLimit": 10000
     },
     "inputWidgets": {},
     "nuid": "fbd5b9a9-c6d2-4361-82fa-2dfae0321f75",
     "showTitle": false,
     "tableResultSettingsMap": {},
     "title": ""
    }
   },
   "outputs": [],
   "source": [
    "# Paso 1: Descargar los datos con requests y leerlos en pandas\n",
    "import requests\n",
    "import pandas as pd\n",
    "from io import StringIO\n",
    "from pyspark.sql import SparkSession\n",
    "\n",
    "spark = SparkSession.builder.getOrCreate()"
   ]
  },
  {
   "cell_type": "code",
   "execution_count": 0,
   "metadata": {
    "application/vnd.databricks.v1+cell": {
     "cellMetadata": {
      "byteLimit": 2048000,
      "rowLimit": 10000
     },
     "inputWidgets": {},
     "nuid": "999b0417-e8a3-4e85-9a02-e33c95af58da",
     "showTitle": false,
     "tableResultSettingsMap": {},
     "title": ""
    }
   },
   "outputs": [],
   "source": [
    "spark.sql(\"USE CATALOG main\")"
   ]
  },
  {
   "cell_type": "code",
   "execution_count": 0,
   "metadata": {
    "application/vnd.databricks.v1+cell": {
     "cellMetadata": {
      "byteLimit": 2048000,
      "rowLimit": 10000
     },
     "inputWidgets": {},
     "nuid": "256491c7-3305-419b-b15f-752c3dec5849",
     "showTitle": false,
     "tableResultSettingsMap": {},
     "title": ""
    }
   },
   "outputs": [],
   "source": [
    "spark.catalog.listDatabases()"
   ]
  },
  {
   "cell_type": "code",
   "execution_count": 0,
   "metadata": {
    "application/vnd.databricks.v1+cell": {
     "cellMetadata": {
      "byteLimit": 2048000,
      "rowLimit": 10000
     },
     "inputWidgets": {},
     "nuid": "71c73955-d96c-49e8-8a4f-21597914a32f",
     "showTitle": false,
     "tableResultSettingsMap": {},
     "title": ""
    }
   },
   "outputs": [],
   "source": [
    "# Descargar MEN\n",
    "url_men = \"https://www.datos.gov.co/resource/nudc-7mev.csv?$limit=100000\"\n",
    "\n",
    "response_men = requests.get(url_men)\n",
    "df_men_pd = pd.read_csv(StringIO(response_men.text))\n",
    "df_men = spark.createDataFrame(df_men_pd)\n",
    "\n",
    "display(df_men)"
   ]
  },
  {
   "cell_type": "code",
   "execution_count": 0,
   "metadata": {
    "application/vnd.databricks.v1+cell": {
     "cellMetadata": {
      "byteLimit": 2048000,
      "rowLimit": 10000
     },
     "inputWidgets": {},
     "nuid": "382989bd-6f3d-4fe9-886f-fdf080db7d12",
     "showTitle": false,
     "tableResultSettingsMap": {},
     "title": ""
    }
   },
   "outputs": [],
   "source": [
    "spark.sql(\"CREATE SCHEMA IF NOT EXISTS main.diplomado_datos\")\n",
    "\n",
    "df_men.write.format(\"delta\") \\\n",
    "    .mode(\"overwrite\") \\\n",
    "    .saveAsTable(\"main.diplomado_datos.men_estadisticas\")\n"
   ]
  },
  {
   "cell_type": "code",
   "execution_count": 0,
   "metadata": {
    "application/vnd.databricks.v1+cell": {
     "cellMetadata": {
      "byteLimit": 2048000,
      "rowLimit": 10000
     },
     "inputWidgets": {},
     "nuid": "05d4fc44-6470-495a-8aac-11276d318e54",
     "showTitle": false,
     "tableResultSettingsMap": {},
     "title": ""
    }
   },
   "outputs": [],
   "source": [
    "total_registros = 19449349\n",
    "limite = 50000     \n",
    "paginas = (total_registros // limite) + 1\n",
    "\n",
    "\n",
    "for i in range(paginas):\n",
    "    offset = i * limite\n",
    "    url_secop = f\"https://www.datos.gov.co/resource/rpmr-utcd.csv?$limit={limite}&$offset={offset}\"\n",
    "\n",
    "    print(f\"Descargando página {i+1}/{paginas} (offset={offset})...\")\n",
    "\n",
    "    response_secop = requests.get(url_secop)\n",
    "\n",
    "    if response_secop.status_code == 200:\n",
    "        df_secop_pd = pd.read_csv(StringIO(response_secop.text), dtype=str)\n",
    "\n",
    "        if df_secop_pd.empty:\n",
    "            print(f\"⚠️ Página {i+1} vacía. Fin de datos.\")\n",
    "            break\n",
    "\n",
    "        df_secop_spark = spark.createDataFrame(df_secop_pd)\n",
    "\n",
    "        df_secop_spark.write.format(\"delta\") \\\n",
    "            .mode(\"append\") \\\n",
    "            .option(\"mergeSchema\", \"true\") \\\n",
    "            .saveAsTable(\"main.diplomado_datos.secop\")\n",
    "\n",
    "        print(f\"✓ Página {i+1} guardada con {len(df_secop_pd)} filas.\")\n",
    "    else:\n",
    "        print(f\"⚠️ Error HTTP {response_secop.status_code}. Deteniendo proceso.\")\n",
    "        break\n",
    "\n",
    "print(\"✅ ¡Carga completa de SECOP en Delta!\")"
   ]
  },
  {
   "cell_type": "code",
   "execution_count": 0,
   "metadata": {
    "application/vnd.databricks.v1+cell": {
     "cellMetadata": {
      "byteLimit": 2048000,
      "rowLimit": 10000
     },
     "inputWidgets": {},
     "nuid": "5b8f2188-808a-4133-be05-ada9017fbef1",
     "showTitle": false,
     "tableResultSettingsMap": {},
     "title": ""
    }
   },
   "outputs": [],
   "source": [
    "spark = SparkSession.builder.getOrCreate()\n",
    "\n",
    "# Offset donde falló\n",
    "offset_inicial = 6500000      # Página 131 (6500000 = (131-1)*50000)\n",
    "limite = 50000\n",
    "\n",
    "# Calcula cuántas páginas faltan:\n",
    "total_registros = 19449349\n",
    "paginas_faltantes = (total_registros - offset_inicial) // limite + 1\n",
    "\n",
    "print(f\"➡️ Vamos a descargar {paginas_faltantes} páginas (bloques de {limite}) empezando en offset {offset_inicial}...\")"
   ]
  },
  {
   "cell_type": "code",
   "execution_count": 0,
   "metadata": {
    "application/vnd.databricks.v1+cell": {
     "cellMetadata": {
      "byteLimit": 2048000,
      "rowLimit": 10000
     },
     "inputWidgets": {},
     "nuid": "d8533503-ab74-46cf-9c84-cd747d4240c9",
     "showTitle": false,
     "tableResultSettingsMap": {},
     "title": ""
    }
   },
   "outputs": [],
   "source": [
    "# --------------------------------------------\n",
    "# Loop para continuar descarga\n",
    "# --------------------------------------------\n",
    "\n",
    "for i in range(paginas_faltantes):\n",
    "    offset = offset_inicial + (i * limite)\n",
    "    url_secop = f\"https://www.datos.gov.co/resource/rpmr-utcd.csv?$limit={limite}&$offset={offset}\"\n",
    "    \n",
    "    print(f\"Descargando página {i+1} con offset={offset}...\")\n",
    "\n",
    "    response_secop = requests.get(url_secop)\n",
    "\n",
    "    if response_secop.status_code == 200:\n",
    "        df_secop_pd = pd.read_csv(StringIO(response_secop.text), dtype=str)\n",
    "\n",
    "        if df_secop_pd.empty:\n",
    "            print(f\"⚠️ Página {i+1} vacía. Fin de datos.\")\n",
    "            break\n",
    "\n",
    "        df_secop_spark = spark.createDataFrame(df_secop_pd)\n",
    "\n",
    "        # Graba en Delta en modo append\n",
    "        df_secop_spark.write.format(\"delta\") \\\n",
    "            .mode(\"append\") \\\n",
    "            .option(\"mergeSchema\", \"true\") \\\n",
    "            .saveAsTable(\"main.diplomado_datos.secop\")\n",
    "\n",
    "        print(f\"✓ Página {i+1} guardada con {len(df_secop_pd)} filas.\")\n",
    "    else:\n",
    "        print(f\"⚠️ Error HTTP {response_secop.status_code} en página {i+1}. Deteniendo proceso.\")\n",
    "        break\n",
    "\n",
    "print(\"✅ ¡Carga reanudada de SECOP completada!\")\n"
   ]
  }
 ],
 "metadata": {
  "application/vnd.databricks.v1+notebook": {
   "computePreferences": null,
   "dashboards": [],
   "environmentMetadata": {
    "base_environment": "",
    "environment_version": "2"
   },
   "inputWidgetPreferences": null,
   "language": "python",
   "notebookMetadata": {
    "mostRecentlyExecutedCommandWithImplicitDF": {
     "commandId": 5174898793617337,
     "dataframes": [
      "_sqldf"
     ]
    },
    "pythonIndentUnit": 4
   },
   "notebookName": "Ingesta_Datos_Abiertos_Inicial",
   "widgets": {}
  },
  "language_info": {
   "name": "python"
  }
 },
 "nbformat": 4,
 "nbformat_minor": 0
}
